{
  "nbformat": 4,
  "nbformat_minor": 0,
  "metadata": {
    "colab": {
      "name": "Flickr.ipynb",
      "provenance": [],
      "collapsed_sections": [],
      "mount_file_id": "1ufTFdWBStjMAM4Tmra30Z-l6xJzzSO3L",
      "authorship_tag": "ABX9TyPF5JZQ+Ob9uk5VvcvPlWdX",
      "include_colab_link": true
    },
    "kernelspec": {
      "name": "python3",
      "display_name": "Python 3"
    },
    "language_info": {
      "name": "python"
    }
  },
  "cells": [
    {
      "cell_type": "markdown",
      "metadata": {
        "id": "view-in-github",
        "colab_type": "text"
      },
      "source": [
        "<a href=\"https://colab.research.google.com/github/liao771018/Web-Crawler/blob/main/Flickr.ipynb\" target=\"_parent\"><img src=\"https://colab.research.google.com/assets/colab-badge.svg\" alt=\"Open In Colab\"/></a>"
      ]
    },
    {
      "cell_type": "markdown",
      "source": [
        "# Flickr"
      ],
      "metadata": {
        "id": "hcBoOf0W76KG"
      }
    },
    {
      "cell_type": "code",
      "source": [
        "# 要搜尋的關鍵字\n",
        "# search = 'Octopus'  # 352983 張\n",
        "# search = 'Loligo'   # 1444 張\n",
        "search = 'Sepiidae'   # 445 張\n",
        "\n",
        "# 最後頁數\n",
        "end_page = 3\n",
        "\n",
        "# Network -> Fetch/XHR -> rest?sort=relevance... 在裡面的 Payload 可以找到 api_key\n",
        "api_key = '4fd0a67c790322e566d8e8af545348c6'\n",
        "\n",
        "# 儲存的資料夾位置\n",
        "output_dirname = '/content/drive/MyDrive/12_團體專題_第四組'\n",
        "output_dirname = output_dirname + '/' + search"
      ],
      "metadata": {
        "id": "nrAtstvMNhPE"
      },
      "execution_count": null,
      "outputs": []
    },
    {
      "cell_type": "code",
      "source": [
        "import requests\n",
        "import json\n",
        "import os\n",
        "\n",
        "\n",
        "# 爬蟲要用的網址、參數\n",
        "\n",
        "for page in range(1, end_page):\n",
        "\n",
        "  print('Page: ', page)\n",
        "\n",
        "  url = 'https://api.flickr.com/services/rest'\n",
        "  headers = {'User-Agent':'Mozilla/5.0 (Windows NT 6.3; Win64; x64) AppleWebKit/537.36 (KHTML, like Gecko) Chrome/102.0.0.0 Safari/537.36', 'Accept':'*/*'}\n",
        "  params = {'sort':'relevance',\n",
        "        'parse_tags':'1',\n",
        "        'content_type':'7',\n",
        "        'extras':'can_comment,can_print,count_comments,count_faves,description,isfavorite,license,media,needs_interstitial,owner_name,path_alias,realname,rotation,url_sq,url_q,url_t,url_s,url_n,url_w,url_m,url_z,url_c,url_l',\n",
        "        'per_page':'50',\n",
        "        'page':page,\n",
        "        'lang':'zh-HK',\n",
        "        'text':search,\n",
        "        'viewerNSID':'',\n",
        "        'method':'flickr.photos.search',\n",
        "        'csrf':'',\n",
        "        'api_key':api_key,\n",
        "        'format':'json',\n",
        "        'hermes':'1',\n",
        "        'hermesClient':'1',\n",
        "        'reqId':'edda5edc-d582-45f4-aef4-d4b68ffc2132',\n",
        "        'nojsoncallback':'1',\n",
        "\n",
        "  }\n",
        "\n",
        "  response = requests.get(url, headers=headers, params=params)\n",
        "  ret = json.loads(response.text)\n",
        "  # print(ret)\n",
        "\n",
        "  photos = ret['photos']\n",
        "\n",
        "  for i in range(len(photos['photo'])):\n",
        "    \n",
        "    try:\n",
        "      print(i, ':', photos['photo'][i]['url_m'], end='  ')\n",
        "      \n",
        "      # 取出圖片 Url\n",
        "      imgUrl = photos['photo'][i]['url_m']\n",
        "      imgRes = requests.get(imgUrl, headers=headers)\n",
        "      img = imgRes.content\n",
        "\n",
        "      # 準備檔案儲存路徑\n",
        "      dirname = output_dirname + '/'     \n",
        "      if not os.path.exists(dirname):\n",
        "        os.mkdir(dirname)\n",
        "\n",
        "      # 儲存圖片\n",
        "      filename = dirname + photos['photo'][i]['url_m'].split('/')[-1]\n",
        "      with open(filename, 'wb') as file:\n",
        "        file.write(img)\n",
        "\n",
        "      print('下載成功')\n",
        "\n",
        "    except:\n",
        "      pass\n",
        "\n",
        "    # 測試成功後拿掉\n",
        "    break\n"
      ],
      "metadata": {
        "colab": {
          "base_uri": "https://localhost:8080/"
        },
        "id": "FaBVmNEK8BYN",
        "outputId": "44573e7f-196b-4a20-c2ec-1a34f2df0c82"
      },
      "execution_count": null,
      "outputs": [
        {
          "output_type": "stream",
          "name": "stdout",
          "text": [
            "Page:  1\n",
            "0 : https://live.staticflickr.com/1069/1452509586_a48f72f7a6.jpg  下載成功\n",
            "Page:  2\n",
            "0 : https://live.staticflickr.com/6050/6375623833_66a3c0f595.jpg  下載成功\n"
          ]
        }
      ]
    }
  ]
}