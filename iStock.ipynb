{
  "nbformat": 4,
  "nbformat_minor": 0,
  "metadata": {
    "colab": {
      "name": "iStock.ipynb",
      "provenance": [],
      "collapsed_sections": [],
      "mount_file_id": "1Ssh-4k69JTGgvObA7AyYrBecBuXvGwy3",
      "authorship_tag": "ABX9TyPaqC4QYHGHFwbwht7+QVke",
      "include_colab_link": true
    },
    "kernelspec": {
      "name": "python3",
      "display_name": "Python 3"
    },
    "language_info": {
      "name": "python"
    }
  },
  "cells": [
    {
      "cell_type": "markdown",
      "metadata": {
        "id": "view-in-github",
        "colab_type": "text"
      },
      "source": [
        "<a href=\"https://colab.research.google.com/github/liao771018/Web-Crawler/blob/main/iStock.ipynb\" target=\"_parent\"><img src=\"https://colab.research.google.com/assets/colab-badge.svg\" alt=\"Open In Colab\"/></a>"
      ]
    },
    {
      "cell_type": "markdown",
      "source": [
        "#iStock"
      ],
      "metadata": {
        "id": "AnarT-lCqR3t"
      }
    },
    {
      "cell_type": "code",
      "source": [
        "# 要搜尋的圖片名稱\n",
        "# search = 'Octopus' # 83512 張\n",
        "# search = 'Sepiidae'  # 22042 張\n",
        "search = 'Loligo'  # 11861 張\n",
        "\n",
        "# 最末頁數\n",
        "end_page = 5\n",
        "\n",
        "# 儲存的資料夾位置\n",
        "output_dirname = '/content/drive/MyDrive/12_團體專題_第四組'\n",
        "output_dirname = output_dirname + '/' + search"
      ],
      "metadata": {
        "id": "WJYP7gZ8Ur3i"
      },
      "execution_count": null,
      "outputs": []
    },
    {
      "cell_type": "code",
      "source": [
        "import requests\n",
        "import bs4\n",
        "import os\n",
        "\n",
        "\n",
        "for page in range(1, end_page):\n",
        "\n",
        "  # 設定網址、參數\n",
        "  url = 'https://www.istockphoto.com/search/2/image'\n",
        "  headers = {'user-agent':'Mozilla/5.0'}\n",
        "  params = {'phrase':search,\n",
        "        'page':page\n",
        "        }\n",
        "\n",
        "  # 在網頁原始碼內\n",
        "  response = requests.get(url, headers=headers, params=params)\n",
        "  html = bs4.BeautifulSoup(response.text)\n",
        "  metas = html.find_all('img', class_='MosaicAsset-module__thumb___klD9E')\n",
        "  # print(metas)\n",
        "\n",
        "  for meta in metas:\n",
        "    \n",
        "    # 取出圖片\n",
        "    src = meta.attrs['src']\n",
        "    img = requests.get(src, headers=headers).content\n",
        "\n",
        "    # 準備檔案儲存路徑\n",
        "    dirname = output_dirname + '/'\n",
        "    filename = dirname + src.split('?')[0].split('-')[-1][2:] + '.jpg'\n",
        "\n",
        "    if not os.path.exists(dirname):\n",
        "      os.mkdir(dirname)\n",
        "\n",
        "    # 儲存檔案\n",
        "    with open(filename, 'wb') as file:\n",
        "      file.write(img)\n",
        "\n",
        "    \n",
        "    # 測試完後拿掉\n",
        "    break\n"
      ],
      "metadata": {
        "id": "7qXpq8dvqSI8"
      },
      "execution_count": null,
      "outputs": []
    }
  ]
}