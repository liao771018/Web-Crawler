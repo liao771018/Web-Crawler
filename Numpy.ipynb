{
  "nbformat": 4,
  "nbformat_minor": 0,
  "metadata": {
    "colab": {
      "name": "Numpy.ipynb",
      "provenance": [],
      "collapsed_sections": [],
      "authorship_tag": "ABX9TyM/RGB/lLIn0yFf1Mknabks",
      "include_colab_link": true
    },
    "kernelspec": {
      "name": "python3",
      "display_name": "Python 3"
    },
    "language_info": {
      "name": "python"
    }
  },
  "cells": [
    {
      "cell_type": "markdown",
      "metadata": {
        "id": "view-in-github",
        "colab_type": "text"
      },
      "source": [
        "<a href=\"https://colab.research.google.com/github/liao771018/Web-Crawler/blob/main/Numpy.ipynb\" target=\"_parent\"><img src=\"https://colab.research.google.com/assets/colab-badge.svg\" alt=\"Open In Colab\"/></a>"
      ]
    },
    {
      "cell_type": "code",
      "execution_count": null,
      "metadata": {
        "id": "CsXmGCugP37n"
      },
      "outputs": [],
      "source": [
        "import numpy as np\n",
        "from PIL import Image\n",
        "import matplotlib as plt\n",
        "\n",
        "fn = '1.jpg'\n",
        "\n",
        "img = Image.open(fn)\n",
        "\n",
        "img_np = np.array(img)\n",
        "print(img_np)\n",
        "\n",
        "# 取 \"高\" 到200， \"寬\" 不變 \"通道\" 不變\n",
        "img_np_h = img_np[:200, :, :]\n",
        "\n",
        "# 取 \"寬\" 到300, \"高\"不變 \"通道\" 不變\n",
        "img_np_w = img_np[:, :300, :]\n",
        "\n",
        "# 取 \"通道\"\n",
        "img_np_b = img_np[:, :, 0]\n",
        "img_np_g = img_np[:, :, 1]\n",
        "img_np_r = img_np[:, :, 2]\n",
        "\n",
        "\n",
        "# \"高\" 反轉\n",
        "img_np_h_t = img_np[::-1, :, :]\n",
        "\n",
        "# \"寬\" 反轉\n",
        "img_np_w_t = img_np[:, ::-1, :]\n",
        "\n",
        "# \"通道\" 反轉\n",
        "img_np_t = img_np[:, :, ::-1]\n",
        "\n",
        "plt.imshow(img)"
      ]
    },
    {
      "cell_type": "code",
      "source": [
        "# random 使用方式\n",
        "x = '我是測試用的'\n",
        "\n",
        "# 隨機取 3 個數字出來\n",
        "idx = np.random.randint(0, len(x), size=3)\n",
        "print(idx)\n",
        "\n",
        "# 隨機取 2 個 list 裡面各有 3 個 list 各有 4 個值\n",
        "idx = np.random.randint(0, len(x), size=(2,3,4))\n",
        "print(idx)\n",
        "\n",
        "# 隨機一張圖片\n",
        "img = np.random.randint(0, 256, size=(224,224,3))\n",
        "plt.imshow(img)\n",
        "\n",
        "# 隨機一張灰階圖片\n",
        "img = np.random.randint(0, 256, size=(28,28))\n",
        "plt.imshow(img, cmap=\"gray\")"
      ],
      "metadata": {
        "id": "_SUo5eBtadKw"
      },
      "execution_count": null,
      "outputs": []
    },
    {
      "cell_type": "code",
      "source": [
        "# 先放這裡\n",
        "# Generator 要用函式搭配迴圈使用 yield\n",
        "\n",
        "def test():\n",
        "    count = 0\n",
        "    for i in range(3):\n",
        "        yield count ** 2\n",
        "        count = count + 1\n",
        "\n",
        "gen = test()\n",
        "print(gen.__next__())\n",
        "print(gen.__next__())\n",
        "print(gen.__next__())\n",
        "# 第四次會有紅字 StopIteration\n",
        "# print(gen.__next__())\n",
        "\n",
        "# 他會一值使用__next__, 直到stopiteration出現為止\n",
        "for n in test():\n",
        "    print(n)"
      ],
      "metadata": {
        "id": "V3vJcMa3ilTw"
      },
      "execution_count": null,
      "outputs": []
    }
  ]
}