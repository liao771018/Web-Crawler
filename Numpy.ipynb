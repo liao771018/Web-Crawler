{
  "nbformat": 4,
  "nbformat_minor": 0,
  "metadata": {
    "colab": {
      "name": "Numpy.ipynb",
      "provenance": [],
      "collapsed_sections": [],
      "authorship_tag": "ABX9TyMYsihTwnj1dXVcWLz4Amch",
      "include_colab_link": true
    },
    "kernelspec": {
      "name": "python3",
      "display_name": "Python 3"
    },
    "language_info": {
      "name": "python"
    }
  },
  "cells": [
    {
      "cell_type": "markdown",
      "metadata": {
        "id": "view-in-github",
        "colab_type": "text"
      },
      "source": [
        "<a href=\"https://colab.research.google.com/github/liao771018/Web-Crawler/blob/main/Numpy.ipynb\" target=\"_parent\"><img src=\"https://colab.research.google.com/assets/colab-badge.svg\" alt=\"Open In Colab\"/></a>"
      ]
    },
    {
      "cell_type": "code",
      "execution_count": null,
      "metadata": {
        "id": "CsXmGCugP37n"
      },
      "outputs": [],
      "source": [
        "import numpy as np\n",
        "from PIL import Image\n",
        "import matplotlib as plt\n",
        "\n",
        "fn = '1.jpg'\n",
        "\n",
        "img = Image.open(fn)\n",
        "\n",
        "img_np = np.array(img)\n",
        "print(img_np)\n",
        "\n",
        "# 取 \"高\" 到200， \"寬\" 不變 \"通道\" 不變\n",
        "img_np_h = img_np[:200, :, :]\n",
        "\n",
        "# 取 \"寬\" 到300, \"高\"不變 \"通道\" 不變\n",
        "img_np_w = img_np[:, :300, :]\n",
        "\n",
        "# 取 \"通道\"\n",
        "img_np_b = img_np[:, :, 0]\n",
        "img_np_g = img_np[:, :, 1]\n",
        "img_np_r = img_np[:, :, 2]\n",
        "\n",
        "\n",
        "# \"高\" 反轉\n",
        "img_np_h_t = img_np[::-1, :, :]\n",
        "\n",
        "# \"寬\" 反轉\n",
        "img_np_w_t = img_np[:, ::-1, :]\n",
        "\n",
        "# \"通道\" 反轉\n",
        "img_np_t = img_np[:, :, ::-1]\n",
        "\n",
        "plt.imshow(img)"
      ]
    }
  ]
}